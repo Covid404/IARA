{
 "cells": [
  {
   "cell_type": "code",
   "execution_count": 1,
   "metadata": {},
   "outputs": [],
   "source": [
    "import pandas as pd"
   ]
  },
  {
   "cell_type": "code",
   "execution_count": 61,
   "metadata": {},
   "outputs": [
    {
     "name": "stdout",
     "output_type": "stream",
     "text": [
      "          data estado                                               nome  \\\n",
      "0   2020-03-18     BA                       Ventilador Pulmonar (Adesão)   \n",
      "7   2020-05-07     MG  aquisição de ventiladores pulmonares para aten...   \n",
      "8   2020-03-20     PE                                ventilador pulmonar   \n",
      "9   2020-04-01     PE  ventilador pulmonar para insuficiencia repirat...   \n",
      "10  2020-04-01     PE  ventilador pulmonar para insuficiencia repirat...   \n",
      "11  2020-04-17     PE                       ventilador pulmonar portatil   \n",
      "12         NaN     PE                                      ventilometros   \n",
      "13  2020-03-19     PR                  aquisição de ventilador pulmonar.   \n",
      "14  2020-04-13     PR                                      ventilômetro    \n",
      "15  2020-04-17     PR                                ventilador pulmonar   \n",
      "16  2020-03-30     PR  aquisição de ventilador pulmonar (equipamento ...   \n",
      "17  2020-03-21     RJ                         ventilador microprocessado   \n",
      "18  2020-04-01     RJ                         ventilador microprocessado   \n",
      "19  2020-04-01     RJ                                ventilador mecanico   \n",
      "20  2020-05-18     RO  VENTILADOR PULMONAR NEONATAL PEDIATRICO ADULTO...   \n",
      "21  25-03-2020     SP            VENTILADOR PULMONAR 2 NIVEIS DE PRESSAO   \n",
      "\n",
      "          preco  quantidade  anomalo  \n",
      "0    49500.0000       100.0       -1  \n",
      "7    24359.2562       300.0       -1  \n",
      "8    49500.0000       100.0       -1  \n",
      "9    63000.0000        12.0       -1  \n",
      "10   32000.0000       100.0       -1  \n",
      "11   64693.0000        45.0       -1  \n",
      "12   19946.3300        10.0       -1  \n",
      "13   50635.0000        50.0       -1  \n",
      "14   25000.0000         1.0       -1  \n",
      "15   93949.6000        30.0       -1  \n",
      "16   40000.0000         5.0       -1  \n",
      "17  169800.0000       400.0       -1  \n",
      "18  198000.0000       300.0       -1  \n",
      "19  187560.0000       300.0       -1  \n",
      "20   56000.0000        30.0       -1  \n",
      "21   17800.0000         6.0       -1  \n"
     ]
    }
   ],
   "source": [
    "df = pd.read_csv(\"../predictions/predictions.csv\")\n",
    "print(df[df['anomalo'] == -1])"
   ]
  },
  {
   "cell_type": "code",
   "execution_count": 60,
   "metadata": {},
   "outputs": [
    {
     "data": {
      "text/html": [
       "<div>\n",
       "<style scoped>\n",
       "    .dataframe tbody tr th:only-of-type {\n",
       "        vertical-align: middle;\n",
       "    }\n",
       "\n",
       "    .dataframe tbody tr th {\n",
       "        vertical-align: top;\n",
       "    }\n",
       "\n",
       "    .dataframe thead th {\n",
       "        text-align: right;\n",
       "    }\n",
       "</style>\n",
       "<table border=\"1\" class=\"dataframe\">\n",
       "  <thead>\n",
       "    <tr style=\"text-align: right;\">\n",
       "      <th></th>\n",
       "      <th>estado</th>\n",
       "      <th>anomalo</th>\n",
       "    </tr>\n",
       "  </thead>\n",
       "  <tbody>\n",
       "    <tr>\n",
       "      <td>0</td>\n",
       "      <td>BA</td>\n",
       "      <td>1</td>\n",
       "    </tr>\n",
       "    <tr>\n",
       "      <td>1</td>\n",
       "      <td>MG</td>\n",
       "      <td>1</td>\n",
       "    </tr>\n",
       "    <tr>\n",
       "      <td>2</td>\n",
       "      <td>PE</td>\n",
       "      <td>5</td>\n",
       "    </tr>\n",
       "    <tr>\n",
       "      <td>3</td>\n",
       "      <td>PR</td>\n",
       "      <td>4</td>\n",
       "    </tr>\n",
       "    <tr>\n",
       "      <td>4</td>\n",
       "      <td>RJ</td>\n",
       "      <td>3</td>\n",
       "    </tr>\n",
       "    <tr>\n",
       "      <td>5</td>\n",
       "      <td>RO</td>\n",
       "      <td>1</td>\n",
       "    </tr>\n",
       "    <tr>\n",
       "      <td>6</td>\n",
       "      <td>SP</td>\n",
       "      <td>1</td>\n",
       "    </tr>\n",
       "  </tbody>\n",
       "</table>\n",
       "</div>"
      ],
      "text/plain": [
       "  estado  anomalo\n",
       "0     BA        1\n",
       "1     MG        1\n",
       "2     PE        5\n",
       "3     PR        4\n",
       "4     RJ        3\n",
       "5     RO        1\n",
       "6     SP        1"
      ]
     },
     "execution_count": 60,
     "metadata": {},
     "output_type": "execute_result"
    }
   ],
   "source": [
    "#parts_by_year = sets[['year','num_parts']].groupby('year', as_index = False).mean()\n",
    "df = pd.read_csv(\"../predictions/predictions.csv\")\n",
    "df = df[df['anomalo'] != 1]\n",
    "anomalias_por_estado = df[['estado', 'anomalo']].groupby('estado', as_index=False).count()\n",
    "anomalias_por_estado"
   ]
  }
 ],
 "metadata": {
  "kernelspec": {
   "display_name": "Python 3",
   "language": "python",
   "name": "python3"
  },
  "language_info": {
   "codemirror_mode": {
    "name": "ipython",
    "version": 3
   },
   "file_extension": ".py",
   "mimetype": "text/x-python",
   "name": "python",
   "nbconvert_exporter": "python",
   "pygments_lexer": "ipython3",
   "version": "3.7.4"
  }
 },
 "nbformat": 4,
 "nbformat_minor": 2
}
