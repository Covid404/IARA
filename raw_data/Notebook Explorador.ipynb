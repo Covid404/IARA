{
 "cells": [
  {
   "cell_type": "code",
   "execution_count": 30,
   "metadata": {},
   "outputs": [],
   "source": [
    "import pandas as pd\n",
    "import numpy as np"
   ]
  },
  {
   "cell_type": "code",
   "execution_count": 36,
   "metadata": {},
   "outputs": [],
   "source": [
    "df= pd.read_csv('compras_federais.csv')\n",
    "df_ventiladores = df[df['ITEM_DESCRICAO'].str.contains('VENTILADOR ART')]\n",
    "df_ventiladores = df_ventiladores[~df_ventiladores['ITEM_DESCRICAO'].str.contains('CIRCUITO|MOTOR')]\n",
    "#df_ventiladores['data'] = np.nan\n",
    "df_ventiladores = df_ventiladores[['ITEM_DESCRICAO', 'PRECO_UNITARIO', 'DATA','UF', 'QUANTIDADE']]\n",
    "df_ventiladores.columns = ['nome', 'preco', 'data', 'estado', 'quantidade']\n",
    "df_ventiladores.to_csv('../data/federal.csv', index=False)"
   ]
  }
 ],
 "metadata": {
  "kernelspec": {
   "display_name": "Python 3",
   "language": "python",
   "name": "python3"
  },
  "language_info": {
   "codemirror_mode": {
    "name": "ipython",
    "version": 3
   },
   "file_extension": ".py",
   "mimetype": "text/x-python",
   "name": "python",
   "nbconvert_exporter": "python",
   "pygments_lexer": "ipython3",
   "version": "3.7.4"
  }
 },
 "nbformat": 4,
 "nbformat_minor": 2
}
