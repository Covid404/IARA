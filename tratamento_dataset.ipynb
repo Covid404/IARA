{
 "cells": [
  {
   "cell_type": "code",
   "execution_count": 86,
   "metadata": {},
   "outputs": [],
   "source": [
    "import pandas as pd"
   ]
  },
  {
   "cell_type": "code",
   "execution_count": 87,
   "metadata": {},
   "outputs": [
    {
     "data": {
      "text/html": [
       "<div>\n",
       "<style scoped>\n",
       "    .dataframe tbody tr th:only-of-type {\n",
       "        vertical-align: middle;\n",
       "    }\n",
       "\n",
       "    .dataframe tbody tr th {\n",
       "        vertical-align: top;\n",
       "    }\n",
       "\n",
       "    .dataframe thead th {\n",
       "        text-align: right;\n",
       "    }\n",
       "</style>\n",
       "<table border=\"1\" class=\"dataframe\">\n",
       "  <thead>\n",
       "    <tr style=\"text-align: right;\">\n",
       "      <th></th>\n",
       "      <th>Órgão Contratante</th>\n",
       "      <th>Número do Processo de Contratação / aquisição</th>\n",
       "      <th>Número / Ano do instrumento contratual</th>\n",
       "      <th>Nome do Contratado</th>\n",
       "      <th>CPF / CNPJ do Contratado</th>\n",
       "      <th>Objeto</th>\n",
       "      <th>Valor Total</th>\n",
       "      <th>Valor Unitário</th>\n",
       "      <th>Quantidade</th>\n",
       "      <th>Unidade</th>\n",
       "      <th>Data de assinatura</th>\n",
       "      <th>Prazo de vigência</th>\n",
       "      <th>Local de Entrega / Execução</th>\n",
       "      <th>Modalidade de Licitação</th>\n",
       "    </tr>\n",
       "  </thead>\n",
       "  <tbody>\n",
       "    <tr>\n",
       "      <td>0</td>\n",
       "      <td>SESA</td>\n",
       "      <td>2020-G5XGL</td>\n",
       "      <td>023/2020</td>\n",
       "      <td>UL QUÍMICA E CIENTÍFICA</td>\n",
       "      <td>01.955.600/0001-76</td>\n",
       "      <td>VENTILADOR MECÂNICO PARA AS UNIDADES HOSPITALA...</td>\n",
       "      <td>R$ 3.510.000,00</td>\n",
       "      <td>R$ 26.000,00</td>\n",
       "      <td>135</td>\n",
       "      <td>unidade</td>\n",
       "      <td>26/03/2020</td>\n",
       "      <td>Imediato</td>\n",
       "      <td>Almoxarifado da Secretaria de Estado da Saúde ...</td>\n",
       "      <td>Dispensa de Licitação</td>\n",
       "    </tr>\n",
       "    <tr>\n",
       "      <td>1</td>\n",
       "      <td>SESA</td>\n",
       "      <td>2020-MZ3J0</td>\n",
       "      <td>025/2020</td>\n",
       "      <td>INTERMED EQUIPTO MEDICO HOSPITALAR LTDA</td>\n",
       "      <td>49.520.521/0001-69</td>\n",
       "      <td>VENTILADOR PULMONAR - PARA AS UNIDADES HOSPITA...</td>\n",
       "      <td>R$ 2.890.000,00</td>\n",
       "      <td>R$ 57.800,00</td>\n",
       "      <td>50</td>\n",
       "      <td>unidade</td>\n",
       "      <td>27/03/2020</td>\n",
       "      <td>Imediato</td>\n",
       "      <td>Almoxarifado da Secretaria de Estado da Saúde ...</td>\n",
       "      <td>Dispensa de Licitação</td>\n",
       "    </tr>\n",
       "    <tr>\n",
       "      <td>2</td>\n",
       "      <td>SESA</td>\n",
       "      <td>2020-VJCFL</td>\n",
       "      <td>026/2020</td>\n",
       "      <td>LABORCLIN PRODUTOS PARA LABORATÓRIOS LTDA</td>\n",
       "      <td>76.619.113/0001-31</td>\n",
       "      <td>SWAB DE RAYON - PARA COLETA DE AMOSTRAS SUSPEI...</td>\n",
       "      <td>R$ 166.000,00</td>\n",
       "      <td>R$ 166,00</td>\n",
       "      <td>1000</td>\n",
       "      <td>unidade</td>\n",
       "      <td>31/03/2020</td>\n",
       "      <td>Imediato</td>\n",
       "      <td>Almoxarifado do Laboratório Central de Saúde P...</td>\n",
       "      <td>Dispensa de Licitação</td>\n",
       "    </tr>\n",
       "    <tr>\n",
       "      <td>3</td>\n",
       "      <td>SESA</td>\n",
       "      <td>2020-ZPL73</td>\n",
       "      <td>022/2020</td>\n",
       "      <td>MP PUBLICIDADE LTDA</td>\n",
       "      <td>31.479.710/0001-70</td>\n",
       "      <td>AGÊNCIA DE PUBLICIDADE - COVID-19 - CAMPANHA D...</td>\n",
       "      <td>R$ 1.000.000,00</td>\n",
       "      <td>R$ 1.000.000,00</td>\n",
       "      <td>1</td>\n",
       "      <td>serviço</td>\n",
       "      <td>23/03/2020</td>\n",
       "      <td>Imediato</td>\n",
       "      <td>Sem endereço Especificado.</td>\n",
       "      <td>Dispensa de Licitação</td>\n",
       "    </tr>\n",
       "    <tr>\n",
       "      <td>4</td>\n",
       "      <td>SESA</td>\n",
       "      <td>2020-C0NGL</td>\n",
       "      <td>027/2020</td>\n",
       "      <td>UL QUIMICA E CIENTIFICA LTDA</td>\n",
       "      <td>01.955.600/0001-76</td>\n",
       "      <td>ESTACAO DE PIPETACAO ROBOTIZADA - PARA REALIZA...</td>\n",
       "      <td>R$ 511.875,00</td>\n",
       "      <td>R$ 511.875,00</td>\n",
       "      <td>1</td>\n",
       "      <td>unidade</td>\n",
       "      <td>29/03/2020</td>\n",
       "      <td>Imediato</td>\n",
       "      <td>Laboratório Central de Saúde Pública, situado ...</td>\n",
       "      <td>Dispensa de Licitação</td>\n",
       "    </tr>\n",
       "  </tbody>\n",
       "</table>\n",
       "</div>"
      ],
      "text/plain": [
       "  Órgão Contratante Número do Processo de Contratação / aquisição  \\\n",
       "0              SESA                                    2020-G5XGL   \n",
       "1              SESA                                    2020-MZ3J0   \n",
       "2              SESA                                    2020-VJCFL   \n",
       "3              SESA                                    2020-ZPL73   \n",
       "4              SESA                                    2020-C0NGL   \n",
       "\n",
       "  Número / Ano do instrumento contratual  \\\n",
       "0                               023/2020   \n",
       "1                               025/2020   \n",
       "2                               026/2020   \n",
       "3                               022/2020   \n",
       "4                               027/2020   \n",
       "\n",
       "                          Nome do Contratado CPF / CNPJ do Contratado  \\\n",
       "0                    UL QUÍMICA E CIENTÍFICA       01.955.600/0001-76   \n",
       "1    INTERMED EQUIPTO MEDICO HOSPITALAR LTDA       49.520.521/0001-69   \n",
       "2  LABORCLIN PRODUTOS PARA LABORATÓRIOS LTDA       76.619.113/0001-31   \n",
       "3                        MP PUBLICIDADE LTDA       31.479.710/0001-70   \n",
       "4               UL QUIMICA E CIENTIFICA LTDA       01.955.600/0001-76   \n",
       "\n",
       "                                              Objeto      Valor Total  \\\n",
       "0  VENTILADOR MECÂNICO PARA AS UNIDADES HOSPITALA...  R$ 3.510.000,00   \n",
       "1  VENTILADOR PULMONAR - PARA AS UNIDADES HOSPITA...  R$ 2.890.000,00   \n",
       "2  SWAB DE RAYON - PARA COLETA DE AMOSTRAS SUSPEI...    R$ 166.000,00   \n",
       "3  AGÊNCIA DE PUBLICIDADE - COVID-19 - CAMPANHA D...  R$ 1.000.000,00   \n",
       "4  ESTACAO DE PIPETACAO ROBOTIZADA - PARA REALIZA...    R$ 511.875,00   \n",
       "\n",
       "    Valor Unitário Quantidade  Unidade Data de assinatura Prazo de vigência  \\\n",
       "0     R$ 26.000,00        135  unidade         26/03/2020          Imediato   \n",
       "1     R$ 57.800,00         50  unidade         27/03/2020          Imediato   \n",
       "2        R$ 166,00       1000  unidade         31/03/2020          Imediato   \n",
       "3  R$ 1.000.000,00          1  serviço         23/03/2020          Imediato   \n",
       "4    R$ 511.875,00          1  unidade         29/03/2020          Imediato   \n",
       "\n",
       "                         Local de Entrega / Execução Modalidade de Licitação  \n",
       "0  Almoxarifado da Secretaria de Estado da Saúde ...   Dispensa de Licitação  \n",
       "1  Almoxarifado da Secretaria de Estado da Saúde ...   Dispensa de Licitação  \n",
       "2  Almoxarifado do Laboratório Central de Saúde P...   Dispensa de Licitação  \n",
       "3                         Sem endereço Especificado.   Dispensa de Licitação  \n",
       "4  Laboratório Central de Saúde Pública, situado ...   Dispensa de Licitação  "
      ]
     },
     "execution_count": 87,
     "metadata": {},
     "output_type": "execute_result"
    }
   ],
   "source": [
    "df = pd.read_csv(\"dadoscovid.csv\", error_bad_lines=False, sep=';', encoding='latin-1')\n",
    "df.head()"
   ]
  },
  {
   "cell_type": "code",
   "execution_count": 91,
   "metadata": {},
   "outputs": [
    {
     "data": {
      "text/plain": [
       "68799.8947368421"
      ]
     },
     "execution_count": 91,
     "metadata": {},
     "output_type": "execute_result"
    }
   ],
   "source": [
    "import numpy as np\n",
    "df_valores = df.copy()\n",
    "#df['Valor Unitário'].str[3:-2].str.replace('.', '').astype(float)\n",
    "#type(df['Valor Unitário'][0])\n",
    "#df['Valor Unitário'].str[3:]\n",
    "df_valores['Valor Unitário'] = df['Valor Unitário'].str[3:].str.replace('.', '').str.split(',', 0).str[0].astype(float)\n",
    "\n",
    "\n",
    "#df['range'] = df['range'].str.replace(',','-')\n",
    "#df['ValorLicitadoLote'] = df['ValorLicitadoLote'].str.replace(',', '.')\n",
    "#df['ValorLicitadoLote']= df['ValorLicitadoLote'].astype(float)\n",
    "#df['ValorLicitadoLote'].mean()\n",
    "\n",
    "df_valores['Valor Unitário'].mean()"
   ]
  },
  {
   "cell_type": "code",
   "execution_count": 92,
   "metadata": {},
   "outputs": [
    {
     "data": {
      "text/plain": [
       "56845.75"
      ]
     },
     "execution_count": 92,
     "metadata": {},
     "output_type": "execute_result"
    }
   ],
   "source": [
    "ventilador_df = df_valores[df_valores['Objeto'].str.contains(\"VENTILADOR\")]\n",
    "#ventilador_df['ValorLicitadoLote'].head()\n",
    "ventilador_df['Valor Unitário'].mean()"
   ]
  }
 ],
 "metadata": {
  "kernelspec": {
   "display_name": "Python 3",
   "language": "python",
   "name": "python3"
  },
  "language_info": {
   "codemirror_mode": {
    "name": "ipython",
    "version": 3
   },
   "file_extension": ".py",
   "mimetype": "text/x-python",
   "name": "python",
   "nbconvert_exporter": "python",
   "pygments_lexer": "ipython3",
   "version": "3.7.4"
  }
 },
 "nbformat": 4,
 "nbformat_minor": 2
}
